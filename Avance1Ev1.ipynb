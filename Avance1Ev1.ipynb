{
  "cells": [
    {
      "cell_type": "markdown",
      "metadata": {
        "id": "view-in-github",
        "colab_type": "text"
      },
      "source": [
        "<a href=\"https://colab.research.google.com/github/ullola17/datos_masivos/blob/main/evidencia.ipynb\" target=\"_parent\"><img src=\"https://colab.research.google.com/assets/colab-badge.svg\" alt=\"Open In Colab\"/></a>"
      ]
    },
    {
      "cell_type": "code",
      "execution_count": null,
      "id": "f63497a6",
      "metadata": {
        "id": "f63497a6",
        "outputId": "e30f9ad4-1a61-4515-d659-5b90e2ba79d4"
      },
      "outputs": [
        {
          "name": "stdout",
          "output_type": "stream",
          "text": [
            "hello world\n"
          ]
        }
      ],
      "source": [
        "\n",
        "print(\"hello world\")"
      ]
    },
    {
      "cell_type": "code",
      "execution_count": null,
      "id": "526f82a4",
      "metadata": {
        "id": "526f82a4",
        "outputId": "512b3286-4756-45bb-819b-5bfefcdfa321"
      },
      "outputs": [
        {
          "data": {
            "text/html": [
              "<div>\n",
              "<style scoped>\n",
              "    .dataframe tbody tr th:only-of-type {\n",
              "        vertical-align: middle;\n",
              "    }\n",
              "\n",
              "    .dataframe tbody tr th {\n",
              "        vertical-align: top;\n",
              "    }\n",
              "\n",
              "    .dataframe thead th {\n",
              "        text-align: right;\n",
              "    }\n",
              "</style>\n",
              "<table border=\"1\" class=\"dataframe\">\n",
              "  <thead>\n",
              "    <tr style=\"text-align: right;\">\n",
              "      <th></th>\n",
              "      <th>aisle_id</th>\n",
              "      <th>aisle</th>\n",
              "    </tr>\n",
              "  </thead>\n",
              "  <tbody>\n",
              "    <tr>\n",
              "      <th>0</th>\n",
              "      <td>1</td>\n",
              "      <td>prepared soups salads</td>\n",
              "    </tr>\n",
              "    <tr>\n",
              "      <th>1</th>\n",
              "      <td>2</td>\n",
              "      <td>specialty cheeses</td>\n",
              "    </tr>\n",
              "    <tr>\n",
              "      <th>2</th>\n",
              "      <td>3</td>\n",
              "      <td>energy granola bars</td>\n",
              "    </tr>\n",
              "    <tr>\n",
              "      <th>3</th>\n",
              "      <td>4</td>\n",
              "      <td>instant foods</td>\n",
              "    </tr>\n",
              "    <tr>\n",
              "      <th>4</th>\n",
              "      <td>5</td>\n",
              "      <td>marinades meat preparation</td>\n",
              "    </tr>\n",
              "    <tr>\n",
              "      <th>...</th>\n",
              "      <td>...</td>\n",
              "      <td>...</td>\n",
              "    </tr>\n",
              "    <tr>\n",
              "      <th>129</th>\n",
              "      <td>130</td>\n",
              "      <td>hot cereal pancake mixes</td>\n",
              "    </tr>\n",
              "    <tr>\n",
              "      <th>130</th>\n",
              "      <td>131</td>\n",
              "      <td>dry pasta</td>\n",
              "    </tr>\n",
              "    <tr>\n",
              "      <th>131</th>\n",
              "      <td>132</td>\n",
              "      <td>beauty</td>\n",
              "    </tr>\n",
              "    <tr>\n",
              "      <th>132</th>\n",
              "      <td>133</td>\n",
              "      <td>muscles joints pain relief</td>\n",
              "    </tr>\n",
              "    <tr>\n",
              "      <th>133</th>\n",
              "      <td>134</td>\n",
              "      <td>specialty wines champagnes</td>\n",
              "    </tr>\n",
              "  </tbody>\n",
              "</table>\n",
              "<p>134 rows × 2 columns</p>\n",
              "</div>"
            ],
            "text/plain": [
              "     aisle_id                       aisle\n",
              "0           1       prepared soups salads\n",
              "1           2           specialty cheeses\n",
              "2           3         energy granola bars\n",
              "3           4               instant foods\n",
              "4           5  marinades meat preparation\n",
              "..        ...                         ...\n",
              "129       130    hot cereal pancake mixes\n",
              "130       131                   dry pasta\n",
              "131       132                      beauty\n",
              "132       133  muscles joints pain relief\n",
              "133       134  specialty wines champagnes\n",
              "\n",
              "[134 rows x 2 columns]"
            ]
          },
          "execution_count": 75,
          "metadata": {},
          "output_type": "execute_result"
        }
      ],
      "source": [
        "import pandas as pd\n",
        "\n",
        "# Crear un diccionario vacío para almacenar los dataframes\n",
        "data = {}\n",
        "\n",
        "# Lista de archivos\n",
        "archivos = ['aisles.csv', 'departments.csv', 'order_products__prior.csv',\n",
        "            'order_products__train.csv', 'orders.csv', 'products.csv',\n",
        "            'sample_submission.csv']\n",
        "\n",
        "# Leer cada archivo y almacenarlo en el diccionario\n",
        "for archivo in archivos:\n",
        "    data[archivo] = pd.read_csv(f'EV1/{archivo}')\n",
        "\n",
        "# Ahora puedes acceder a cada dataframe usando su nombre de archivo\n",
        "# Por ejemplo, para acceder a 'aisles.csv', puedes usar:\n",
        "df_aisles = data['aisles.csv']\n",
        "df_aisles"
      ]
    },
    {
      "cell_type": "code",
      "execution_count": null,
      "id": "043ee83e",
      "metadata": {
        "id": "043ee83e",
        "outputId": "eeedfbda-8852-4e70-c085-400be4b93696"
      },
      "outputs": [
        {
          "data": {
            "image/png": "[encoded data removed]",
            "text/plain": [
              "<Figure size 640x480 with 1 Axes>"
            ]
          },
          "metadata": {},
          "output_type": "display_data"
        }
      ],
      "source": [
        "import matplotlib.pyplot as plt\n",
        "\n",
        "# Supongamos que quieres visualizar la distribución de un atributo en 'aisles.csv'\n",
        "df = data['aisles.csv']\n",
        "\n",
        "# Crear un histograma\n",
        "plt.hist(df['aisle_id'], bins=30, alpha=0.5)\n",
        "\n",
        "# Mostrar el gráfico\n",
        "plt.show()\n"
      ]
    },
    {
      "cell_type": "markdown",
      "source": [
        "1. order_products_train.csv\n",
        "\n",
        "   - order_id: Este archivo contiene identificadores únicos para cada orden de compra. Podrías calcular estadísticas como el número total de órdenes y la frecuencia de órdenes repetidas (reordered=1). Esto podría ayudarte a comprender la lealtad de los clientes y la tasa de repetición de productos en las órdenes.\n",
        "\n",
        "   - product_id: Aquí puedes calcular el número total de productos únicos disponibles y la frecuencia con la que se compran productos específicos.\n",
        "\n",
        "   - add_to_cart_order: Puedes calcular estadísticas como el promedio de productos por orden y el máximo valor de esta columna para tener una idea de cuántos productos suelen agregarse al carrito en una sola orden.\n",
        "\n",
        "   - reordered: Calcula la proporción de productos que se vuelven a ordenar (reordered=1) en comparación con los que no se vuelven a ordenar (reordered=0).\n"
      ],
      "metadata": {
        "id": "9o1gj21ylrLU"
      },
      "id": "9o1gj21ylrLU"
    },
    {
      "cell_type": "markdown",
      "source": [
        "\n",
        "2. products.csv\n",
        "\n",
        "   - product_id: Aquí puedes contar el número total de productos únicos y verificar si hay duplicados en esta columna (debería ser única).\n",
        "\n",
        "   - product_name: Podrías examinar la longitud promedio de los nombres de productos y buscar valores únicos o errores tipográficos.\n",
        "\n",
        "   - aisle_id y department_id: Puedes contar el número de pasillos y departamentos únicos y analizar la distribución de productos en cada uno. Esto te dará información sobre la organización de los productos en la tienda.\n"
      ],
      "metadata": {
        "id": "dIf9Vf8FlxaT"
      },
      "id": "dIf9Vf8FlxaT"
    },
    {
      "cell_type": "markdown",
      "source": [
        "3. departments.csv\n",
        "\n",
        "   - department_id: Al igual que con product_id, verifica si esta columna contiene identificadores únicos y cuenta el número total de departamentos.\n",
        "\n",
        "   - department: Verifica si hay duplicados en el nombre del departamento y, si es necesario, realiza una corrección.\n"
      ],
      "metadata": {
        "id": "3BuDw3xKlykk"
      },
      "id": "3BuDw3xKlykk"
    },
    {
      "cell_type": "markdown",
      "source": [
        "\n",
        "4. sample_submission.csv\n",
        "\n",
        "   - order_id: Al igual que con order_id en order_products_train.csv, podrías calcular estadísticas como el número total de órdenes en el conjunto de datos de muestra y la frecuencia de aparición de cada order_id.\n",
        "\n",
        "   - products: Puedes analizar la longitud promedio de las listas de productos en esta columna y verificar si todas las listas contienen productos válidos en función de los datos disponibles en products.csv.\n",
        "\n"
      ],
      "metadata": {
        "id": "emRCZXOfl1Bw"
      },
      "id": "emRCZXOfl1Bw"
    }
  ],
  "metadata": {
    "kernelspec": {
      "display_name": "Python 3 (ipykernel)",
      "language": "python",
      "name": "python3"
    },
    "language_info": {
      "codemirror_mode": {
        "name": "ipython",
        "version": 3
      },
      "file_extension": ".py",
      "mimetype": "text/x-python",
      "name": "python",
      "nbconvert_exporter": "python",
      "pygments_lexer": "ipython3",
      "version": "3.11.4"
    },
    "colab": {
      "provenance": [],
      "include_colab_link": true
    }
  },
  "nbformat": 4,
  "nbformat_minor": 5
}
